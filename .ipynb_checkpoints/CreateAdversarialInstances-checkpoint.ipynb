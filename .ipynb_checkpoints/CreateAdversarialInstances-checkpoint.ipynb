{
 "cells": [
  {
   "cell_type": "code",
   "execution_count": 1,
   "metadata": {
    "collapsed": false
   },
   "outputs": [
    {
     "name": "stderr",
     "output_type": "stream",
     "text": [
      "Using TensorFlow backend.\n"
     ]
    }
   ],
   "source": [
    "from __future__ import absolute_import\n",
    "from __future__ import division\n",
    "from __future__ import print_function\n",
    "from __future__ import unicode_literals\n",
    "\n",
    "import keras\n",
    "from keras import backend\n",
    "\n",
    "import numpy as np\n",
    "from matplotlib import pylab as plt\n",
    "%matplotlib inline\n",
    "# set display defaults\n",
    "plt.rcParams['figure.figsize'] = (10, 10)        # large images\n",
    "plt.rcParams['image.interpolation'] = 'nearest'  # don't interpolate: show square pixels\n",
    "plt.rcParams['image.cmap'] = 'gray'  # use grayscale output rather than a (potentially misleading) color heatmap\n",
    "\n",
    "import tensorflow as tf\n",
    "from tensorflow.python.platform import app\n",
    "from tensorflow.python.platform import flags\n",
    "\n",
    "from cleverhans.utils_mnist import data_mnist, model_mnist\n",
    "from cleverhans.utils_tf import model_train, model_eval, batch_eval\n",
    "from cleverhans.attacks import fgsm, jsma\n",
    "from cleverhans.attacks_tf import jacobian_graph\n",
    "from cleverhans.utils import other_classes\n",
    "\n",
    "FLAGS = flags.FLAGS"
   ]
  },
  {
   "cell_type": "code",
   "execution_count": 2,
   "metadata": {
    "collapsed": false
   },
   "outputs": [],
   "source": [
    "FLAGS.nb_epochs = 6\n",
    "FLAGS.train_dir = '/tmp'\n",
    "FLAGS.filename = 'mnist.ckpt'\n",
    "FLAGS.batch_size = 128\n",
    "FLAGS.learning_rate = 0.1\n",
    "\n",
    "FLAGS.nb_classes = 10\n",
    "FLAGS.source_samples = 5\n",
    "FLAGS.img_rows = 28\n",
    "FLAGS.img_cols = 28\n",
    "\n",
    "FLAGS.max_steps = 10000\n",
    "FLAGS.log_dir = \"./logs/\""
   ]
  },
  {
   "cell_type": "code",
   "execution_count": 3,
   "metadata": {
    "collapsed": false
   },
   "outputs": [],
   "source": [
    "def evaluate():\n",
    "    # Evaluate the accuracy of the MNIST model on legitimate test examples\n",
    "    accuracy = model_eval(sess, x, y, predictions, X_test, Y_test)\n",
    "    assert X_test.shape[0] == 10000, X_test.shape\n",
    "    print('Test accuracy on legitimate test examples: ' + str(accuracy))\n",
    "    return accuracy\n",
    "    \n",
    "def evaluate_2():\n",
    "    # Evaluate the accuracy of the adversarialy trained MNIST model on\n",
    "    # legitimate test examples\n",
    "    accuracy = model_eval(sess, x, y, predictions_2, X_test, Y_test)\n",
    "    print('Test accuracy on legitimate test examples: ' + str(accuracy))\n",
    "\n",
    "    # Evaluate the accuracy of the adversarially trained MNIST model on\n",
    "    # adversarial examples\n",
    "    accuracy_adv = model_eval(sess, x, y, predictions_2_adv, X_test, Y_test)\n",
    "    print('Test accuracy on adversarial examples: ' + str(accuracy_adv))"
   ]
  },
  {
   "cell_type": "code",
   "execution_count": 4,
   "metadata": {
    "collapsed": false
   },
   "outputs": [
    {
     "name": "stdout",
     "output_type": "stream",
     "text": [
      "X_train shape: (60000, 1, 28, 28)\n",
      "60000 train samples\n",
      "10000 test samples\n"
     ]
    }
   ],
   "source": [
    "# Set TF random seed to improve reproducibility\n",
    "tf.set_random_seed(1234)\n",
    "\n",
    "# Set tensorboard\n",
    "keras.callbacks.TensorBoard(log_dir='./logs', histogram_freq=0, write_graph=True, write_images=False)\n",
    "\n",
    "# Image dimensions ordering should follow the Theano convention\n",
    "if keras.backend.image_dim_ordering() != 'th':\n",
    "    keras.backend.set_image_dim_ordering('th')\n",
    "    print(\"INFO: '~/.keras/keras.json' sets 'image_dim_ordering' to 'th', temporarily setting to 'tf'\")\n",
    "\n",
    "# Create TF session and set as Keras backend session\n",
    "sess = tf.Session()\n",
    "keras.backend.set_session(sess)\n",
    "\n",
    "# Get MNIST test data\n",
    "X_train, Y_train, X_test, Y_test = data_mnist()\n",
    "\n",
    "assert Y_train.shape[1] == 10.\n",
    "label_smooth = .1\n",
    "Y_train = Y_train.clip(label_smooth / 9., 1. - label_smooth)"
   ]
  },
  {
   "cell_type": "code",
   "execution_count": 15,
   "metadata": {
    "collapsed": false
   },
   "outputs": [
    {
     "name": "stdout",
     "output_type": "stream",
     "text": [
      "Defined TensorFlow model graph.\n"
     ]
    }
   ],
   "source": [
    "# Define input TF placeholder\n",
    "x = tf.placeholder(tf.float32, shape=(None, 1, 28, 28))\n",
    "y = tf.placeholder(tf.float32, shape=(None, 10))\n",
    "\n",
    "# Define TF model graph\n",
    "model = model_mnist()\n",
    "predictions = model(x)\n",
    "print(\"Defined TensorFlow model graph.\")"
   ]
  },
  {
   "cell_type": "code",
   "execution_count": 16,
   "metadata": {
    "collapsed": false
   },
   "outputs": [
    {
     "name": "stdout",
     "output_type": "stream",
     "text": [
      "Epoch 0\n",
      "\tEpoch took 7.29948091507 seconds\n",
      "Test accuracy on legitimate test examples: 0.9548\n",
      "Epoch 1\n",
      "\tEpoch took 7.2548148632 seconds\n",
      "Test accuracy on legitimate test examples: 0.9703\n",
      "Epoch 2\n",
      "\tEpoch took 7.21154403687 seconds\n",
      "Test accuracy on legitimate test examples: 0.9784\n",
      "Epoch 3\n",
      "\tEpoch took 7.17755413055 seconds\n",
      "Test accuracy on legitimate test examples: 0.9801\n",
      "Epoch 4\n",
      "\tEpoch took 7.24393296242 seconds\n",
      "Test accuracy on legitimate test examples: 0.9818\n",
      "Epoch 5\n",
      "\tEpoch took 7.15335202217 seconds\n",
      "Test accuracy on legitimate test examples: 0.9849\n",
      "Completed model training.\n"
     ]
    },
    {
     "data": {
      "text/plain": [
       "True"
      ]
     },
     "execution_count": 16,
     "metadata": {},
     "output_type": "execute_result"
    }
   ],
   "source": [
    "# Train an MNIST model\n",
    "model_train(sess, x, y, predictions, X_train, Y_train, evaluate=evaluate)"
   ]
  },
  {
   "cell_type": "markdown",
   "metadata": {},
   "source": [
    "## Apply FGSM"
   ]
  },
  {
   "cell_type": "markdown",
   "metadata": {},
   "source": [
    "### Create Adversarials"
   ]
  },
  {
   "cell_type": "code",
   "execution_count": 17,
   "metadata": {
    "collapsed": false
   },
   "outputs": [
    {
     "name": "stdout",
     "output_type": "stream",
     "text": [
      "Test accuracy on adversarial examples: 0.0739\n"
     ]
    }
   ],
   "source": [
    "# Craft adversarial examples using Fast Gradient Sign Method (FGSM)\n",
    "adv_x = fgsm(x, predictions, eps=0.2)\n",
    "X_test_adv, = batch_eval(sess, [x], [adv_x], [X_test])\n",
    "assert X_test_adv.shape[0] == 10000, X_test_adv.shape\n",
    "\n",
    "# Evaluate the accuracy of the MNIST model on adversarial examples\n",
    "accuracy = model_eval(sess, x, y, predictions, X_test_adv, Y_test)\n",
    "print('Test accuracy on adversarial examples: ' + str(accuracy))"
   ]
  },
  {
   "cell_type": "code",
   "execution_count": 18,
   "metadata": {
    "collapsed": true
   },
   "outputs": [],
   "source": [
    "np.save('adversarials.npy', X_test_adv)"
   ]
  },
  {
   "cell_type": "markdown",
   "metadata": {},
   "source": [
    "### Visualize"
   ]
  },
  {
   "cell_type": "code",
   "execution_count": 19,
   "metadata": {
    "collapsed": false
   },
   "outputs": [
    {
     "data": {
      "image/png": "[encoded data removed]",
      "text/plain": [
       "<matplotlib.figure.Figure at 0x7f1700517390>"
      ]
     },
     "metadata": {},
     "output_type": "display_data"
    }
   ],
   "source": [
    "# sample a set \n",
    "idxs = np.random.choice(range(10000), 100)\n",
    "X_test_adv_sample = X_test_adv[idxs]\n",
    "Y_test_sample = Y_test[idxs]\n",
    "\n",
    "# plot the sample set\n",
    "plt.figure()\n",
    "for c,img in enumerate(X_test_adv_sample):\n",
    "    plt.subplot(10,10,c+1)\n",
    "    plt.axis(\"off\")\n",
    "    plt.title(np.argmax(Y_test_sample[c]))\n",
    "    plt.imshow(img.squeeze(), cmap=plt.cm.gray)"
   ]
  },
  {
   "cell_type": "markdown",
   "metadata": {},
   "source": [
    "### Embedding"
   ]
  },
  {
   "cell_type": "code",
   "execution_count": 20,
   "metadata": {
    "collapsed": false
   },
   "outputs": [],
   "source": [
    "# Plotting function\n",
    "# plt.rc('font', **{'family' : 'sans-serif',\n",
    "#                          'weight' : 'bold',\n",
    "#                          'size'   : 18})\n",
    "# plt.rc('text', **{'usetex' : True})\n",
    "\n",
    "def plot_mnist(X, y, X_embedded, name, min_dist=10.0):\n",
    "    fig = plt.figure(figsize=(10, 10))\n",
    "    ax = plt.axes(frameon=False)\n",
    "    plt.title(\"\\\\textbf{MNIST dataset} -- Two-dimensional \"\n",
    "          \"embedding of 70,000 handwritten digits with %s\" % name)\n",
    "    plt.setp(ax, xticks=(), yticks=())\n",
    "    plt.subplots_adjust(left=0.0, bottom=0.0, right=1.0, top=0.9,\n",
    "                    wspace=0.0, hspace=0.0)\n",
    "    plt.scatter(X_embedded[:, 0], X_embedded[:, 1],\n",
    "            c=y, marker=\"x\")\n",
    "\n",
    "    if min_dist is not None:\n",
    "        from matplotlib import offsetbox\n",
    "        shown_images = np.array([[15., 15.]])\n",
    "        indices = np.arange(X_embedded.shape[0])\n",
    "        np.random.shuffle(indices)\n",
    "        for i in indices[:5000]:\n",
    "            dist = np.sum((X_embedded[i] - shown_images) ** 2, 1)\n",
    "            if np.min(dist) < min_dist:\n",
    "                continue\n",
    "            shown_images = np.r_[shown_images, [X_embedded[i]]]\n",
    "            imagebox = offsetbox.AnnotationBbox(\n",
    "                offsetbox.OffsetImage(X[i].reshape(28, 28),\n",
    "                                      cmap=plt.cm.gray_r), X_embedded[i])\n",
    "            ax.add_artist(imagebox)"
   ]
  },
  {
   "cell_type": "code",
   "execution_count": 21,
   "metadata": {
    "collapsed": false
   },
   "outputs": [],
   "source": [
    "from keras.models import Model\n",
    "\n",
    "# create feature extractor\n",
    "model_feat = Model(input=model.input, output=model.get_layer('flatten_3').output)"
   ]
  },
  {
   "cell_type": "code",
   "execution_count": 22,
   "metadata": {
    "collapsed": false
   },
   "outputs": [],
   "source": [
    "# extract last layer features\n",
    "X_test_feats = model_feat.predict(X_test)\n",
    "X_test_adv_feats   = model_feat.predict(X_test_adv)\n",
    "assert(X_test_feats.shape == X_test_adv_feats.shape)\n",
    "\n",
    "X_feats = np.concatenate([X_test_feats, X_test_adv_feats], axis=0)\n",
    "Y_feats = np.concatenate([Y_test, Y_test]).argmax(1)\n",
    "\n",
    "images = np.concatenate([X_test,X_test_adv], axis=0)"
   ]
  },
  {
   "cell_type": "code",
   "execution_count": null,
   "metadata": {
    "collapsed": false
   },
   "outputs": [],
   "source": [
    "from tsne import bh_sne\n",
    "\n",
    "# train tsne projection\n",
    "vis_data = bh_sne(X_feats.astype('float64'))"
   ]
  },
  {
   "cell_type": "code",
   "execution_count": null,
   "metadata": {
    "collapsed": false
   },
   "outputs": [],
   "source": [
    "plot_mnist(images[:10000], Y_feats[0:10000], vis_data[:10000], 't-sne', min_dist=20.0)"
   ]
  },
  {
   "cell_type": "code",
   "execution_count": null,
   "metadata": {
    "collapsed": false
   },
   "outputs": [],
   "source": [
    "plot_mnist(images[10000:], Y_feats[10000:], vis_data[10000:], 't-sne', min_dist=20.0)"
   ]
  },
  {
   "cell_type": "code",
   "execution_count": null,
   "metadata": {
    "collapsed": false
   },
   "outputs": [],
   "source": [
    "plot_mnist(images, Y_feats, vis_data, 't-sne', min_dist=20.0)"
   ]
  },
  {
   "cell_type": "markdown",
   "metadata": {},
   "source": [
    "### Train with Adversarials"
   ]
  },
  {
   "cell_type": "code",
   "execution_count": null,
   "metadata": {
    "collapsed": true
   },
   "outputs": [],
   "source": [
    "# Redefine TF model graph\n",
    "model_2 = model_mnist()\n",
    "predictions_2 = model_2(x)\n",
    "adv_x_2 = fgsm(x, predictions_2, eps=0.3)\n",
    "predictions_2_adv = model_2(adv_x_2)\n",
    "\n",
    "# Perform adversarial training\n",
    "model_train(sess, x, y, predictions_2, X_train, Y_train, predictions_adv=predictions_2_adv,\n",
    "        evaluate=evaluate_2)\n",
    "\n",
    "# Evaluate the accuracy of the MNIST model on adversarial examples\n",
    "accuracy = model_eval(sess, x, y, predictions_2, X_test_adv, Y_test)\n",
    "print('Test accuracy on adversarial examples: ' + str(accuracy))"
   ]
  },
  {
   "cell_type": "markdown",
   "metadata": {},
   "source": [
    "## VAE"
   ]
  },
  {
   "cell_type": "code",
   "execution_count": null,
   "metadata": {
    "collapsed": false
   },
   "outputs": [],
   "source": [
    "from vae import VAE\n",
    "\n",
    "# define VAE\n",
    "vae = VAE(batch_size=200, learning_rate=0.01)"
   ]
  },
  {
   "cell_type": "code",
   "execution_count": null,
   "metadata": {
    "collapsed": false
   },
   "outputs": [],
   "source": [
    "import numpy as np\n",
    "from keras.datasets import mnist\n",
    "\n",
    "# load MNIST\n",
    "(x_train, y_train), (x_test, y_test) = mnist.load_data()\n",
    "\n",
    "# preprocess MNIST\n",
    "x_train = x_train.astype('float32') / 255.\n",
    "x_test = x_test.astype('float32') / 255.\n",
    "x_train = x_train.reshape((len(x_train), np.prod(x_train.shape[1:])))\n",
    "x_test = x_test.reshape((len(x_test), np.prod(x_test.shape[1:])))"
   ]
  },
  {
   "cell_type": "code",
   "execution_count": null,
   "metadata": {
    "collapsed": false,
    "scrolled": true
   },
   "outputs": [],
   "source": [
    "vae.train(x_train, x_train, x_test, x_test)"
   ]
  },
  {
   "cell_type": "code",
   "execution_count": null,
   "metadata": {
    "collapsed": false
   },
   "outputs": [],
   "source": [
    "# encode test set to latent dimensions\n",
    "x_test_feats = vae.encoder.predict(x_test, batch_size=200)\n",
    "\n",
    "# plot test set on latent dimensions\n",
    "plot_mnist(x_test, y_test, x_test_feats, 't-sne', min_dist=1.0)"
   ]
  },
  {
   "cell_type": "markdown",
   "metadata": {},
   "source": [
    "### Visualize Manifold"
   ]
  },
  {
   "cell_type": "code",
   "execution_count": null,
   "metadata": {
    "collapsed": false
   },
   "outputs": [],
   "source": [
    "from scipy.stats import norm\n",
    "\n",
    "# display a 2D manifold of the digits\n",
    "n = 15  # figure with 15x15 digits\n",
    "digit_size = 28\n",
    "figure = np.zeros((digit_size * n, digit_size * n))\n",
    "\n",
    "# linearly spaced coordinates on the unit square were transformed through the inverse CDF (ppf) of the Gaussian\n",
    "# to produce values of the latent variables z, since the prior of the latent space is Gaussian\n",
    "grid_x = norm.ppf(np.linspace(0.05, 0.95, n))\n",
    "grid_y = norm.ppf(np.linspace(0.05, 0.95, n))\n",
    "\n",
    "for i, yi in enumerate(grid_x):\n",
    "    for j, xi in enumerate(grid_y):\n",
    "        z_sample = np.array([[xi, yi]])\n",
    "        x_decoded = vae.generate(z_sample)\n",
    "        digit = x_decoded[0].reshape(digit_size, digit_size)\n",
    "        figure[i * digit_size: (i + 1) * digit_size,\n",
    "               j * digit_size: (j + 1) * digit_size] = digit\n",
    "\n",
    "plt.figure(figsize=(10, 10))\n",
    "plt.imshow(figure, cmap='Greys_r')\n",
    "plt.show()"
   ]
  },
  {
   "cell_type": "markdown",
   "metadata": {},
   "source": [
    "### Classifiy by VAE features"
   ]
  },
  {
   "cell_type": "code",
   "execution_count": null,
   "metadata": {
    "collapsed": false
   },
   "outputs": [],
   "source": [
    "from vae import VAE\n",
    "\n",
    "# create VAE model for feature learning\n",
    "vae = VAE(batch_size=200, original_dim=784, latent_dim=128, intermediate_dim=512, \n",
    "          nb_epoch=50, epsilon_std=1.0, learning_rate=0.001)"
   ]
  },
  {
   "cell_type": "code",
   "execution_count": null,
   "metadata": {
    "collapsed": false
   },
   "outputs": [],
   "source": [
    "import numpy as np\n",
    "from keras.datasets import mnist\n",
    "from keras.utils import np_utils\n",
    "\n",
    "# load MNIST\n",
    "(x_train, y_train), (x_test, y_test) = mnist.load_data()\n",
    "\n",
    "# preprocess MNIST\n",
    "x_train = x_train.astype('float32') / 255.\n",
    "x_test = x_test.astype('float32') / 255.\n",
    "x_train = x_train.reshape((len(x_train), np.prod(x_train.shape[1:])))\n",
    "x_test = x_test.reshape((len(x_test), np.prod(x_test.shape[1:])))\n",
    "\n",
    "# to categorical\n",
    "y_train = np_utils.to_categorical(y_train, 10)\n",
    "y_test  = np_utils.to_categorical(y_test, 10)\n",
    "\n",
    "# label smooting\n",
    "# label_smooth = .1\n",
    "# y_train = y_train.clip(label_smooth / 9., 1. - label_smooth)"
   ]
  },
  {
   "cell_type": "code",
   "execution_count": null,
   "metadata": {
    "collapsed": false,
    "scrolled": true
   },
   "outputs": [],
   "source": [
    "vae.train(x_train, x_train, x_test, x_test)"
   ]
  },
  {
   "cell_type": "code",
   "execution_count": null,
   "metadata": {
    "collapsed": false
   },
   "outputs": [],
   "source": [
    "# compute features\n",
    "x_train_feats = vae.encode(x_train)\n",
    "x_test_feats = vae.encode(x_test)\n",
    "# x_train_feats = vae.feat_extractor.predict(x_train, batch_size=200)\n",
    "# x_test_feats  = vae.feat_extractor.predict(x_test, batch_size=200)\n",
    "print(x_train_feats.shape)"
   ]
  },
  {
   "cell_type": "code",
   "execution_count": null,
   "metadata": {
    "collapsed": false
   },
   "outputs": [],
   "source": [
    "from keras.models import Sequential\n",
    "from keras.layers import Dense\n",
    "from keras.layers import Activation\n",
    "from keras.optimizers import SGD, RMSprop\n",
    "from keras.regularizers import l2, activity_l2\n",
    "\n",
    "# create classifier\n",
    "clf = Sequential()\n",
    "clf.add(Dense(10, input_shape=(x_train_feats.shape[1],)))\n",
    "clf.add(Activation('softmax'))\n",
    "\n",
    "# optimizer = SGD(lr=0.01, momentum=0, decay=0.0, nesterov=False)\n",
    "optimizer = RMSprop(lr=0.01, rho=0.9, epsilon=1e-08, decay=0.0)\n",
    "clf.compile(loss='categorical_crossentropy',\n",
    "              optimizer=optimizer,\n",
    "              metrics=['accuracy'])\n",
    "clf.summary()"
   ]
  },
  {
   "cell_type": "code",
   "execution_count": null,
   "metadata": {
    "collapsed": false
   },
   "outputs": [],
   "source": [
    "# train clf\n",
    "clf.fit(x_train_feats, y_train, batch_size=128, nb_epoch=10, verbose=1, \n",
    "        validation_data=[x_test_feats, y_test], shuffle=True)"
   ]
  },
  {
   "cell_type": "code",
   "execution_count": null,
   "metadata": {
    "collapsed": false
   },
   "outputs": [],
   "source": [
    "# prediction on adersarial test instances\n",
    "x_test_adv = X_test_adv.reshape(10000, 784)\n",
    "x_test_adv_feats = vae.encoder.predict(x_test_adv, batch_size=200)\n",
    "# x_test_adv_feats = vae.feat_extractor.predict(x_test_adv, batch_size=200)\n",
    "preds = clf.predict_classes(x_test_adv_feats, batch_size=200)"
   ]
  },
  {
   "cell_type": "code",
   "execution_count": null,
   "metadata": {
    "collapsed": false
   },
   "outputs": [],
   "source": [
    "from sklearn.metrics import accuracy_score\n",
    "print(accuracy_score(Y_test.argmax(1), preds))"
   ]
  }
 ],
 "metadata": {
  "kernelspec": {
   "display_name": "Python 2",
   "language": "python",
   "name": "python2"
  },
  "language_info": {
   "codemirror_mode": {
    "name": "ipython",
    "version": 2
   },
   "file_extension": ".py",
   "mimetype": "text/x-python",
   "name": "python",
   "nbconvert_exporter": "python",
   "pygments_lexer": "ipython2",
   "version": "2.7.6"
  }
 },
 "nbformat": 4,
 "nbformat_minor": 1
}
